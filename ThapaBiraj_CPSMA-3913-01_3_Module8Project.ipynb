{
 "cells": [
  {
   "cell_type": "markdown",
   "id": "969ed80f",
   "metadata": {},
   "source": [
    "                                                 Module 7 Project\n",
    "                                                 Biraj Thapa\n",
    "                                                 CPSMA-3913-01\n",
    "                                                 Instructor(s): Nicholas C Jacob, PhD"
   ]
  },
  {
   "cell_type": "markdown",
   "id": "e9572ea2",
   "metadata": {},
   "source": [
    "# Proofs\n",
    "A a linear equation y = mx+b is created by assigning values to m and b. The values assigned to m is 5 and b is 9. \n",
    "# y = 5x + 9\n",
    "We will plot this equation on graph using matplotlib."
   ]
  },
  {
   "cell_type": "code",
   "execution_count": 6,
   "id": "153945d6",
   "metadata": {},
   "outputs": [
    {
     "data": {
      "image/png": "[encoded data removed]",
      "text/plain": [
       "<Figure size 432x288 with 1 Axes>"
      ]
     },
     "metadata": {
      "needs_background": "light"
     },
     "output_type": "display_data"
    }
   ],
   "source": [
    "import matplotlib.pyplot as plt\n",
    "import numpy as np\n",
    "\n",
    "\n",
    "x = np.linspace(-5,5,100)\n",
    "y = 5*x+9 #Equation\n",
    "plt.plot(x, y, '-y', label='y=5x+9') #This is for the axis. - will draw the line on legend and y is for color yellow.\n",
    "plt.title('Graph of y=5x+9') # Plotting the line y= 5x + 9\n",
    "plt.xlabel('x', color='yellow') \n",
    "plt.ylabel('y', color='yellow')\n",
    "plt.scatter(0,9, c='red',s = 60) # Plotting Y-intercept when x is zero\n",
    "plt.scatter(-1.8,0,c='red',s = 60) # Plotting X-intercept when y is zero.\n",
    "plt.legend(loc='upper left') # Location of legend\n",
    "plt.grid()\n",
    "plt.show()"
   ]
  },
  {
   "cell_type": "markdown",
   "id": "eaeaaed0",
   "metadata": {},
   "source": [
    "# Proving (0,b) is y-intercept\n",
    "Our linear equation is y = 5x + 9\n",
    "Where m = 5 and b = 9.\n",
    "To prove y-intercept is b in (0,b), we will have to put x = 0.\n",
    "So the equation will become \n",
    "y = m*0 + b\n",
    "y = b\n",
    "The proof below will return True as output when we will put our values in equation."
   ]
  },
  {
   "cell_type": "code",
   "execution_count": 10,
   "id": "9b67d122",
   "metadata": {},
   "outputs": [
    {
     "data": {
      "text/plain": [
       "True"
      ]
     },
     "execution_count": 10,
     "metadata": {},
     "output_type": "execute_result"
    }
   ],
   "source": [
    "# We have to prove that 9 is the intercept of y\n",
    "# For proving intercept we will have to set x equals to zero\n",
    "#y == m*x + b\n",
    "9==5*0 + 9"
   ]
  },
  {
   "cell_type": "markdown",
   "id": "38d5963f",
   "metadata": {},
   "source": [
    "# Findings in Words\n",
    "Matplot is a great library for depicting line equations. I randomly made an equation and plotted it on graph. The intercept was then proved to be equal to y when x is zero. All in all, proofs were easy to illustrate on python. "
   ]
  },
  {
   "cell_type": "code",
   "execution_count": null,
   "id": "b5c63ab8",
   "metadata": {},
   "outputs": [],
   "source": []
  }
 ],
 "metadata": {
  "kernelspec": {
   "display_name": "Python 3 (ipykernel)",
   "language": "python",
   "name": "python3"
  },
  "language_info": {
   "codemirror_mode": {
    "name": "ipython",
    "version": 3
   },
   "file_extension": ".py",
   "mimetype": "text/x-python",
   "name": "python",
   "nbconvert_exporter": "python",
   "pygments_lexer": "ipython3",
   "version": "3.10.2"
  }
 },
 "nbformat": 4,
 "nbformat_minor": 5
}
