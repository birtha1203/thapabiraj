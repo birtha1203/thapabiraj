{
 "cells": [
  {
   "cell_type": "code",
   "execution_count": 1,
   "id": "5a0ba395",
   "metadata": {},
   "outputs": [],
   "source": [
    "#A Pot contains 2 red, 1 blue, 3 black, 1 white, 1 purple, 4 pink, 2 yellow, 3 green, 1 orange and 2 brown balls.\n",
    "#What is the probability of each ball drawn from the pot.\n",
    "prob = [2/19,1/19,3/19,1/19,1/19,4/19,2/19,3/19,1/19,2/19] #Probability of each coloured ball\n"
   ]
  },
  {
   "cell_type": "code",
   "execution_count": 2,
   "id": "d92e50ce",
   "metadata": {},
   "outputs": [],
   "source": [
    "ball= [10*i for i in prob]\n",
    "prob= [2/19,1/19,3/19,1/19,1/19,4/19,2/19,3/19,1/19,2/19]"
   ]
  },
  {
   "cell_type": "code",
   "execution_count": 3,
   "id": "21edb6fb",
   "metadata": {},
   "outputs": [
    {
     "data": {
      "text/plain": [
       "['Red',\n",
       " 'Yellow',\n",
       " 'Orange',\n",
       " 'Blue',\n",
       " 'Pink',\n",
       " 'Green',\n",
       " 'Green',\n",
       " 'Black',\n",
       " 'Pink',\n",
       " 'Brown',\n",
       " 'Brown',\n",
       " 'Green',\n",
       " 'Blue',\n",
       " 'Black',\n",
       " 'Pink',\n",
       " 'Pink',\n",
       " 'Pink',\n",
       " 'Pink',\n",
       " 'Red',\n",
       " 'Pink']"
      ]
     },
     "execution_count": 3,
     "metadata": {},
     "output_type": "execute_result"
    }
   ],
   "source": [
    "from random import choices\n",
    "choices(['Red','Blue','Black','White','Purple','Pink','Yellow','Green','Orange','Brown'],ball,k=20)"
   ]
  },
  {
   "cell_type": "code",
   "execution_count": 19,
   "id": "7d7e3c60",
   "metadata": {},
   "outputs": [
    {
     "name": "stdout",
     "output_type": "stream",
     "text": [
      "3628800\n"
     ]
    }
   ],
   "source": [
    "\n",
    "from itertools import permutations\n",
    " \n",
    "# Get all permutations of 'Red','Blue','Black','White','Purple','Pink','Yellow','Green','Orange','Brown'\n",
    "\n",
    "perm = permutations(['Red','Blue','Black','White','Purple','Pink','Yellow','Green','Orange','Brown'],10)\n",
    "\n",
    "#This will print upto n!\n",
    "#In this case 10! => 3628800 results\n",
    "d = len(list(perm))\n",
    "# Print the obtained permutations\n",
    "print (d)\n"
   ]
  },
  {
   "cell_type": "code",
   "execution_count": 14,
   "id": "97c10e92",
   "metadata": {},
   "outputs": [
    {
     "name": "stdout",
     "output_type": "stream",
     "text": [
      "('Red', 'Blue')\n",
      "('Red', 'Black')\n",
      "('Red', 'White')\n",
      "('Red', 'Purple')\n",
      "('Red', 'Pink')\n",
      "('Red', 'Yellow')\n",
      "('Red', 'Green')\n",
      "('Red', 'Orange')\n",
      "('Red', 'Brown')\n",
      "('Blue', 'Black')\n",
      "('Blue', 'White')\n",
      "('Blue', 'Purple')\n",
      "('Blue', 'Pink')\n",
      "('Blue', 'Yellow')\n",
      "('Blue', 'Green')\n",
      "('Blue', 'Orange')\n",
      "('Blue', 'Brown')\n",
      "('Black', 'White')\n",
      "('Black', 'Purple')\n",
      "('Black', 'Pink')\n",
      "('Black', 'Yellow')\n",
      "('Black', 'Green')\n",
      "('Black', 'Orange')\n",
      "('Black', 'Brown')\n",
      "('White', 'Purple')\n",
      "('White', 'Pink')\n",
      "('White', 'Yellow')\n",
      "('White', 'Green')\n",
      "('White', 'Orange')\n",
      "('White', 'Brown')\n",
      "('Purple', 'Pink')\n",
      "('Purple', 'Yellow')\n",
      "('Purple', 'Green')\n",
      "('Purple', 'Orange')\n",
      "('Purple', 'Brown')\n",
      "('Pink', 'Yellow')\n",
      "('Pink', 'Green')\n",
      "('Pink', 'Orange')\n",
      "('Pink', 'Brown')\n",
      "('Yellow', 'Green')\n",
      "('Yellow', 'Orange')\n",
      "('Yellow', 'Brown')\n",
      "('Green', 'Orange')\n",
      "('Green', 'Brown')\n",
      "('Orange', 'Brown')\n"
     ]
    }
   ],
   "source": [
    "from itertools import combinations\n",
    " \n",
    "# Get all combinations of ['Red','Blue','Black','White','Purple','Pink','Yellow','Green','Orange','Brown']\n",
    "# and length r= 2\n",
    "comb = combinations(['Red','Blue','Black','White','Purple','Pink','Yellow','Green','Orange','Brown'],2)\n",
    "#This will be 10C2 => 45 combinations\n",
    "# Print the obtained combinations\n",
    "for i in list(comb):\n",
    "    print (i)"
   ]
  },
  {
   "cell_type": "code",
   "execution_count": 8,
   "id": "ebd043d1",
   "metadata": {},
   "outputs": [
    {
     "name": "stdout",
     "output_type": "stream",
     "text": [
      "('Red', 'Blue', 'Black')\n",
      "('Red', 'Blue', 'White')\n",
      "('Red', 'Blue', 'Purple')\n",
      "('Red', 'Blue', 'Pink')\n",
      "('Red', 'Blue', 'Yellow')\n",
      "('Red', 'Blue', 'Green')\n",
      "('Red', 'Blue', 'Orange')\n",
      "('Red', 'Blue', 'Brown')\n",
      "('Red', 'Black', 'White')\n",
      "('Red', 'Black', 'Purple')\n",
      "('Red', 'Black', 'Pink')\n",
      "('Red', 'Black', 'Yellow')\n",
      "('Red', 'Black', 'Green')\n",
      "('Red', 'Black', 'Orange')\n",
      "('Red', 'Black', 'Brown')\n",
      "('Red', 'White', 'Purple')\n",
      "('Red', 'White', 'Pink')\n",
      "('Red', 'White', 'Yellow')\n",
      "('Red', 'White', 'Green')\n",
      "('Red', 'White', 'Orange')\n",
      "('Red', 'White', 'Brown')\n",
      "('Red', 'Purple', 'Pink')\n",
      "('Red', 'Purple', 'Yellow')\n",
      "('Red', 'Purple', 'Green')\n",
      "('Red', 'Purple', 'Orange')\n",
      "('Red', 'Purple', 'Brown')\n",
      "('Red', 'Pink', 'Yellow')\n",
      "('Red', 'Pink', 'Green')\n",
      "('Red', 'Pink', 'Orange')\n",
      "('Red', 'Pink', 'Brown')\n",
      "('Red', 'Yellow', 'Green')\n",
      "('Red', 'Yellow', 'Orange')\n",
      "('Red', 'Yellow', 'Brown')\n",
      "('Red', 'Green', 'Orange')\n",
      "('Red', 'Green', 'Brown')\n",
      "('Red', 'Orange', 'Brown')\n",
      "('Blue', 'Black', 'White')\n",
      "('Blue', 'Black', 'Purple')\n",
      "('Blue', 'Black', 'Pink')\n",
      "('Blue', 'Black', 'Yellow')\n",
      "('Blue', 'Black', 'Green')\n",
      "('Blue', 'Black', 'Orange')\n",
      "('Blue', 'Black', 'Brown')\n",
      "('Blue', 'White', 'Purple')\n",
      "('Blue', 'White', 'Pink')\n",
      "('Blue', 'White', 'Yellow')\n",
      "('Blue', 'White', 'Green')\n",
      "('Blue', 'White', 'Orange')\n",
      "('Blue', 'White', 'Brown')\n",
      "('Blue', 'Purple', 'Pink')\n",
      "('Blue', 'Purple', 'Yellow')\n",
      "('Blue', 'Purple', 'Green')\n",
      "('Blue', 'Purple', 'Orange')\n",
      "('Blue', 'Purple', 'Brown')\n",
      "('Blue', 'Pink', 'Yellow')\n",
      "('Blue', 'Pink', 'Green')\n",
      "('Blue', 'Pink', 'Orange')\n",
      "('Blue', 'Pink', 'Brown')\n",
      "('Blue', 'Yellow', 'Green')\n",
      "('Blue', 'Yellow', 'Orange')\n",
      "('Blue', 'Yellow', 'Brown')\n",
      "('Blue', 'Green', 'Orange')\n",
      "('Blue', 'Green', 'Brown')\n",
      "('Blue', 'Orange', 'Brown')\n",
      "('Black', 'White', 'Purple')\n",
      "('Black', 'White', 'Pink')\n",
      "('Black', 'White', 'Yellow')\n",
      "('Black', 'White', 'Green')\n",
      "('Black', 'White', 'Orange')\n",
      "('Black', 'White', 'Brown')\n",
      "('Black', 'Purple', 'Pink')\n",
      "('Black', 'Purple', 'Yellow')\n",
      "('Black', 'Purple', 'Green')\n",
      "('Black', 'Purple', 'Orange')\n",
      "('Black', 'Purple', 'Brown')\n",
      "('Black', 'Pink', 'Yellow')\n",
      "('Black', 'Pink', 'Green')\n",
      "('Black', 'Pink', 'Orange')\n",
      "('Black', 'Pink', 'Brown')\n",
      "('Black', 'Yellow', 'Green')\n",
      "('Black', 'Yellow', 'Orange')\n",
      "('Black', 'Yellow', 'Brown')\n",
      "('Black', 'Green', 'Orange')\n",
      "('Black', 'Green', 'Brown')\n",
      "('Black', 'Orange', 'Brown')\n",
      "('White', 'Purple', 'Pink')\n",
      "('White', 'Purple', 'Yellow')\n",
      "('White', 'Purple', 'Green')\n",
      "('White', 'Purple', 'Orange')\n",
      "('White', 'Purple', 'Brown')\n",
      "('White', 'Pink', 'Yellow')\n",
      "('White', 'Pink', 'Green')\n",
      "('White', 'Pink', 'Orange')\n",
      "('White', 'Pink', 'Brown')\n",
      "('White', 'Yellow', 'Green')\n",
      "('White', 'Yellow', 'Orange')\n",
      "('White', 'Yellow', 'Brown')\n",
      "('White', 'Green', 'Orange')\n",
      "('White', 'Green', 'Brown')\n",
      "('White', 'Orange', 'Brown')\n",
      "('Purple', 'Pink', 'Yellow')\n",
      "('Purple', 'Pink', 'Green')\n",
      "('Purple', 'Pink', 'Orange')\n",
      "('Purple', 'Pink', 'Brown')\n",
      "('Purple', 'Yellow', 'Green')\n",
      "('Purple', 'Yellow', 'Orange')\n",
      "('Purple', 'Yellow', 'Brown')\n",
      "('Purple', 'Green', 'Orange')\n",
      "('Purple', 'Green', 'Brown')\n",
      "('Purple', 'Orange', 'Brown')\n",
      "('Pink', 'Yellow', 'Green')\n",
      "('Pink', 'Yellow', 'Orange')\n",
      "('Pink', 'Yellow', 'Brown')\n",
      "('Pink', 'Green', 'Orange')\n",
      "('Pink', 'Green', 'Brown')\n",
      "('Pink', 'Orange', 'Brown')\n",
      "('Yellow', 'Green', 'Orange')\n",
      "('Yellow', 'Green', 'Brown')\n",
      "('Yellow', 'Orange', 'Brown')\n",
      "('Green', 'Orange', 'Brown')\n"
     ]
    }
   ],
   "source": [
    "#Another Example of combination with length 3\n",
    "\n",
    "from itertools import combinations\n",
    " \n",
    "# Get all combinations of ['Red','Blue','Black','White','Purple','Pink','Yellow','Green','Orange','Brown']\n",
    "# and length r= 3\n",
    "comb = combinations(['Red','Blue','Black','White','Purple','Pink','Yellow','Green','Orange','Brown'],3)\n",
    "#This will be 10C3 => 120 combinations\n",
    "# Print the obtained combinations\n",
    "for i in list(comb):\n",
    "    print (i)"
   ]
  },
  {
   "cell_type": "code",
   "execution_count": 5,
   "id": "15d56c90",
   "metadata": {},
   "outputs": [
    {
     "name": "stdout",
     "output_type": "stream",
     "text": [
      "126\n"
     ]
    }
   ],
   "source": [
    "#What is the coefficent of the 5th order of (x − 3)^9?\n",
    "import math\n",
    "combin= math.comb(9,5) #This will compute 9C5.Our bionomial expansion\n",
    "print(combin)"
   ]
  },
  {
   "cell_type": "code",
   "execution_count": 6,
   "id": "7512f906",
   "metadata": {},
   "outputs": [
    {
     "name": "stdout",
     "output_type": "stream",
     "text": [
      "('Red',)\n",
      "('Blue',)\n",
      "('Black',)\n",
      "('White',)\n",
      "('Purple',)\n",
      "('Pink',)\n",
      "('Yellow',)\n",
      "('Green',)\n",
      "('Orange',)\n",
      "('Brown',)\n"
     ]
    }
   ],
   "source": [
    "from itertools import permutations\n",
    " \n",
    "# Get all permutations of 'Red','Blue','Black','White','Purple','Pink','Yellow','Green','Orange','Brown'\n",
    "\n",
    "perm = permutations(['Red','Blue','Black','White','Purple','Pink','Yellow','Green','Orange','Brown'],1)\n",
    "\n",
    "#This will only select one item only once in the permutation\n",
    " \n",
    "# Print the obtained permutations\n",
    "for i in list(perm):\n",
    "    print (i)"
   ]
  },
  {
   "cell_type": "code",
   "execution_count": 7,
   "id": "93633fd2",
   "metadata": {},
   "outputs": [
    {
     "name": "stdout",
     "output_type": "stream",
     "text": [
      "('Red', 'Blue', 'Black', 'White', 'Purple', 'Pink', 'Yellow', 'Green', 'Orange', 'Brown')\n"
     ]
    }
   ],
   "source": [
    "#When Ordering does not matter\n",
    "\n",
    "from itertools import combinations\n",
    " \n",
    "# Get all combinations of ['Red','Blue','Black','White','Purple','Pink','Yellow','Green','Orange','Brown']\n",
    "#Without Repeating\n",
    "comb = combinations(['Red','Blue','Black','White','Purple','Pink','Yellow','Green','Orange','Brown'],10)\n",
    "#This will only select one item only once\n",
    "# Print the obtained combinations\n",
    "for i in list(comb):\n",
    "    print (i)"
   ]
  },
  {
   "cell_type": "code",
   "execution_count": null,
   "id": "2775fdb0",
   "metadata": {},
   "outputs": [],
   "source": []
  }
 ],
 "metadata": {
  "kernelspec": {
   "display_name": "Python 3 (ipykernel)",
   "language": "python",
   "name": "python3"
  },
  "language_info": {
   "codemirror_mode": {
    "name": "ipython",
    "version": 3
   },
   "file_extension": ".py",
   "mimetype": "text/x-python",
   "name": "python",
   "nbconvert_exporter": "python",
   "pygments_lexer": "ipython3",
   "version": "3.10.2"
  }
 },
 "nbformat": 4,
 "nbformat_minor": 5
}
