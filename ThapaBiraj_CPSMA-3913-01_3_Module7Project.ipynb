{
 "cells": [
  {
   "cell_type": "markdown",
   "id": "add8b008",
   "metadata": {},
   "source": [
    "                                                     Module 7 Project\n",
    "                                                     Biraj Thapa\n",
    "                                                     CPSMA-3913-01\n",
    "                                                     Instructor(s): Nicholas C Jacob, PhD"
   ]
  },
  {
   "cell_type": "markdown",
   "id": "f4ec3a1d",
   "metadata": {},
   "source": [
    "# Three Propositions\n",
    "Since I am a sports fan, I'll base my propositions on my likings. The three propositions I picked were related to my liking for certain sports. I like football and basketball, whereas I'm not much of a fan of tennis. I'll assign p, q, and r to my propositions.\n",
    "p = I like Football\n",
    "q = I like Basketball\n",
    "r = I like Tennis \n",
    "\n",
    "I would represent them as Football, Basketball and Tennis in my code respectively. "
   ]
  },
  {
   "cell_type": "code",
   "execution_count": 1,
   "id": "44939e55",
   "metadata": {},
   "outputs": [],
   "source": [
    "#I like football = p\n",
    "#I like basketball = q\n",
    "#I like tennis = r\n",
    "Football = True\n",
    "Basketball = True\n",
    "Tennis = False "
   ]
  },
  {
   "cell_type": "markdown",
   "id": "172b1cae",
   "metadata": {},
   "source": [
    "# Truth of the Statements\n",
    "## r ∧ p \n",
    "This statement in words will be \n",
    "\"I like Tennis and I like Football\"\n",
    "Which will obviously be false because I don't like Tennis. "
   ]
  },
  {
   "cell_type": "code",
   "execution_count": 2,
   "id": "e3731d0b",
   "metadata": {},
   "outputs": [
    {
     "data": {
      "text/plain": [
       "False"
      ]
     },
     "execution_count": 2,
     "metadata": {},
     "output_type": "execute_result"
    }
   ],
   "source": [
    "Tennis and Football"
   ]
  },
  {
   "cell_type": "markdown",
   "id": "1a344fa9",
   "metadata": {},
   "source": [
    "## r ∨ ¬q\n",
    "This statement in words will be\n",
    "\"I like Tennis or I do not like Basketball\"\n",
    "This should output false because both of the statements are not true. "
   ]
  },
  {
   "cell_type": "code",
   "execution_count": 4,
   "id": "8ecddb5a",
   "metadata": {},
   "outputs": [
    {
     "data": {
      "text/plain": [
       "False"
      ]
     },
     "execution_count": 4,
     "metadata": {},
     "output_type": "execute_result"
    }
   ],
   "source": [
    "Tennis or not Basketball"
   ]
  },
  {
   "cell_type": "markdown",
   "id": "47d80a7a",
   "metadata": {},
   "source": [
    "## r ⇒ p\n",
    "We can also represent r ⇒ p as ¬r ∨ p.\n",
    "This statement in words will be\n",
    "\"I do not like Tennis or I like Football.\"\n",
    "This should output true because both of the statements are true. "
   ]
  },
  {
   "cell_type": "code",
   "execution_count": 5,
   "id": "260a4fd0",
   "metadata": {},
   "outputs": [
    {
     "data": {
      "text/plain": [
       "True"
      ]
     },
     "execution_count": 5,
     "metadata": {},
     "output_type": "execute_result"
    }
   ],
   "source": [
    "not Tennis or Football"
   ]
  },
  {
   "cell_type": "markdown",
   "id": "3585657c",
   "metadata": {},
   "source": [
    "# Generating Truth Table for Propositions"
   ]
  },
  {
   "cell_type": "code",
   "execution_count": 15,
   "id": "ec50d2cb",
   "metadata": {},
   "outputs": [
    {
     "name": "stderr",
     "output_type": "stream",
     "text": [
      "C:\\Users\\ALI\\AppData\\Local\\Temp\\ipykernel_6212\\1963110101.py:4: FutureWarning: this method is deprecated in favour of `Styler.hide(axis='index')`\n",
      "  table.as_pandas().style.set_properties(**{'text-align': 'left'}).hide_index()\n"
     ]
    },
    {
     "data": {
      "text/html": [
       "<style type=\"text/css\">\n",
       "#T_f3ddf_row0_col0, #T_f3ddf_row0_col1, #T_f3ddf_row0_col2, #T_f3ddf_row0_col3, #T_f3ddf_row0_col4, #T_f3ddf_row0_col5, #T_f3ddf_row0_col6, #T_f3ddf_row1_col0, #T_f3ddf_row1_col1, #T_f3ddf_row1_col2, #T_f3ddf_row1_col3, #T_f3ddf_row1_col4, #T_f3ddf_row1_col5, #T_f3ddf_row1_col6, #T_f3ddf_row2_col0, #T_f3ddf_row2_col1, #T_f3ddf_row2_col2, #T_f3ddf_row2_col3, #T_f3ddf_row2_col4, #T_f3ddf_row2_col5, #T_f3ddf_row2_col6, #T_f3ddf_row3_col0, #T_f3ddf_row3_col1, #T_f3ddf_row3_col2, #T_f3ddf_row3_col3, #T_f3ddf_row3_col4, #T_f3ddf_row3_col5, #T_f3ddf_row3_col6, #T_f3ddf_row4_col0, #T_f3ddf_row4_col1, #T_f3ddf_row4_col2, #T_f3ddf_row4_col3, #T_f3ddf_row4_col4, #T_f3ddf_row4_col5, #T_f3ddf_row4_col6, #T_f3ddf_row5_col0, #T_f3ddf_row5_col1, #T_f3ddf_row5_col2, #T_f3ddf_row5_col3, #T_f3ddf_row5_col4, #T_f3ddf_row5_col5, #T_f3ddf_row5_col6, #T_f3ddf_row6_col0, #T_f3ddf_row6_col1, #T_f3ddf_row6_col2, #T_f3ddf_row6_col3, #T_f3ddf_row6_col4, #T_f3ddf_row6_col5, #T_f3ddf_row6_col6, #T_f3ddf_row7_col0, #T_f3ddf_row7_col1, #T_f3ddf_row7_col2, #T_f3ddf_row7_col3, #T_f3ddf_row7_col4, #T_f3ddf_row7_col5, #T_f3ddf_row7_col6 {\n",
       "  text-align: left;\n",
       "}\n",
       "</style>\n",
       "<table id=\"T_f3ddf\">\n",
       "  <thead>\n",
       "    <tr>\n",
       "      <th id=\"T_f3ddf_level0_col0\" class=\"col_heading level0 col0\" >P</th>\n",
       "      <th id=\"T_f3ddf_level0_col1\" class=\"col_heading level0 col1\" >Q</th>\n",
       "      <th id=\"T_f3ddf_level0_col2\" class=\"col_heading level0 col2\" >R</th>\n",
       "      <th id=\"T_f3ddf_level0_col3\" class=\"col_heading level0 col3\" >~Q</th>\n",
       "      <th id=\"T_f3ddf_level0_col4\" class=\"col_heading level0 col4\" >R and P</th>\n",
       "      <th id=\"T_f3ddf_level0_col5\" class=\"col_heading level0 col5\" >R or ~Q</th>\n",
       "      <th id=\"T_f3ddf_level0_col6\" class=\"col_heading level0 col6\" >R => P</th>\n",
       "    </tr>\n",
       "  </thead>\n",
       "  <tbody>\n",
       "    <tr>\n",
       "      <td id=\"T_f3ddf_row0_col0\" class=\"data row0 col0\" >1</td>\n",
       "      <td id=\"T_f3ddf_row0_col1\" class=\"data row0 col1\" >1</td>\n",
       "      <td id=\"T_f3ddf_row0_col2\" class=\"data row0 col2\" >1</td>\n",
       "      <td id=\"T_f3ddf_row0_col3\" class=\"data row0 col3\" >0</td>\n",
       "      <td id=\"T_f3ddf_row0_col4\" class=\"data row0 col4\" >1</td>\n",
       "      <td id=\"T_f3ddf_row0_col5\" class=\"data row0 col5\" >1</td>\n",
       "      <td id=\"T_f3ddf_row0_col6\" class=\"data row0 col6\" >1</td>\n",
       "    </tr>\n",
       "    <tr>\n",
       "      <td id=\"T_f3ddf_row1_col0\" class=\"data row1 col0\" >1</td>\n",
       "      <td id=\"T_f3ddf_row1_col1\" class=\"data row1 col1\" >1</td>\n",
       "      <td id=\"T_f3ddf_row1_col2\" class=\"data row1 col2\" >0</td>\n",
       "      <td id=\"T_f3ddf_row1_col3\" class=\"data row1 col3\" >0</td>\n",
       "      <td id=\"T_f3ddf_row1_col4\" class=\"data row1 col4\" >0</td>\n",
       "      <td id=\"T_f3ddf_row1_col5\" class=\"data row1 col5\" >0</td>\n",
       "      <td id=\"T_f3ddf_row1_col6\" class=\"data row1 col6\" >1</td>\n",
       "    </tr>\n",
       "    <tr>\n",
       "      <td id=\"T_f3ddf_row2_col0\" class=\"data row2 col0\" >1</td>\n",
       "      <td id=\"T_f3ddf_row2_col1\" class=\"data row2 col1\" >0</td>\n",
       "      <td id=\"T_f3ddf_row2_col2\" class=\"data row2 col2\" >1</td>\n",
       "      <td id=\"T_f3ddf_row2_col3\" class=\"data row2 col3\" >1</td>\n",
       "      <td id=\"T_f3ddf_row2_col4\" class=\"data row2 col4\" >1</td>\n",
       "      <td id=\"T_f3ddf_row2_col5\" class=\"data row2 col5\" >1</td>\n",
       "      <td id=\"T_f3ddf_row2_col6\" class=\"data row2 col6\" >1</td>\n",
       "    </tr>\n",
       "    <tr>\n",
       "      <td id=\"T_f3ddf_row3_col0\" class=\"data row3 col0\" >1</td>\n",
       "      <td id=\"T_f3ddf_row3_col1\" class=\"data row3 col1\" >0</td>\n",
       "      <td id=\"T_f3ddf_row3_col2\" class=\"data row3 col2\" >0</td>\n",
       "      <td id=\"T_f3ddf_row3_col3\" class=\"data row3 col3\" >1</td>\n",
       "      <td id=\"T_f3ddf_row3_col4\" class=\"data row3 col4\" >0</td>\n",
       "      <td id=\"T_f3ddf_row3_col5\" class=\"data row3 col5\" >1</td>\n",
       "      <td id=\"T_f3ddf_row3_col6\" class=\"data row3 col6\" >1</td>\n",
       "    </tr>\n",
       "    <tr>\n",
       "      <td id=\"T_f3ddf_row4_col0\" class=\"data row4 col0\" >0</td>\n",
       "      <td id=\"T_f3ddf_row4_col1\" class=\"data row4 col1\" >1</td>\n",
       "      <td id=\"T_f3ddf_row4_col2\" class=\"data row4 col2\" >1</td>\n",
       "      <td id=\"T_f3ddf_row4_col3\" class=\"data row4 col3\" >0</td>\n",
       "      <td id=\"T_f3ddf_row4_col4\" class=\"data row4 col4\" >0</td>\n",
       "      <td id=\"T_f3ddf_row4_col5\" class=\"data row4 col5\" >1</td>\n",
       "      <td id=\"T_f3ddf_row4_col6\" class=\"data row4 col6\" >0</td>\n",
       "    </tr>\n",
       "    <tr>\n",
       "      <td id=\"T_f3ddf_row5_col0\" class=\"data row5 col0\" >0</td>\n",
       "      <td id=\"T_f3ddf_row5_col1\" class=\"data row5 col1\" >1</td>\n",
       "      <td id=\"T_f3ddf_row5_col2\" class=\"data row5 col2\" >0</td>\n",
       "      <td id=\"T_f3ddf_row5_col3\" class=\"data row5 col3\" >0</td>\n",
       "      <td id=\"T_f3ddf_row5_col4\" class=\"data row5 col4\" >0</td>\n",
       "      <td id=\"T_f3ddf_row5_col5\" class=\"data row5 col5\" >0</td>\n",
       "      <td id=\"T_f3ddf_row5_col6\" class=\"data row5 col6\" >1</td>\n",
       "    </tr>\n",
       "    <tr>\n",
       "      <td id=\"T_f3ddf_row6_col0\" class=\"data row6 col0\" >0</td>\n",
       "      <td id=\"T_f3ddf_row6_col1\" class=\"data row6 col1\" >0</td>\n",
       "      <td id=\"T_f3ddf_row6_col2\" class=\"data row6 col2\" >1</td>\n",
       "      <td id=\"T_f3ddf_row6_col3\" class=\"data row6 col3\" >1</td>\n",
       "      <td id=\"T_f3ddf_row6_col4\" class=\"data row6 col4\" >0</td>\n",
       "      <td id=\"T_f3ddf_row6_col5\" class=\"data row6 col5\" >1</td>\n",
       "      <td id=\"T_f3ddf_row6_col6\" class=\"data row6 col6\" >0</td>\n",
       "    </tr>\n",
       "    <tr>\n",
       "      <td id=\"T_f3ddf_row7_col0\" class=\"data row7 col0\" >0</td>\n",
       "      <td id=\"T_f3ddf_row7_col1\" class=\"data row7 col1\" >0</td>\n",
       "      <td id=\"T_f3ddf_row7_col2\" class=\"data row7 col2\" >0</td>\n",
       "      <td id=\"T_f3ddf_row7_col3\" class=\"data row7 col3\" >1</td>\n",
       "      <td id=\"T_f3ddf_row7_col4\" class=\"data row7 col4\" >0</td>\n",
       "      <td id=\"T_f3ddf_row7_col5\" class=\"data row7 col5\" >1</td>\n",
       "      <td id=\"T_f3ddf_row7_col6\" class=\"data row7 col6\" >1</td>\n",
       "    </tr>\n",
       "  </tbody>\n",
       "</table>\n"
      ],
      "text/plain": [
       "<pandas.io.formats.style.Styler at 0x2421417b880>"
      ]
     },
     "execution_count": 15,
     "metadata": {},
     "output_type": "execute_result"
    }
   ],
   "source": [
    "import ttg\n",
    "\n",
    "table = ttg.Truths(['P', 'Q', 'R'], ['~Q', 'R and P', 'R or ~Q', 'R => P'], ints = False)\n",
    "table.as_pandas().style.set_properties(**{'text-align': 'left'}).hide_index()"
   ]
  },
  {
   "cell_type": "markdown",
   "id": "3779939e",
   "metadata": {},
   "source": [
    "# Generating Truth Table\n",
    "## ¬ (r ⊕ p) ⇒ (p ∨ q)\n",
    "We will generate truth table for ¬ (r ⊕ p) ⇒ (p ∨ q) by importing truth table generator library. "
   ]
  },
  {
   "cell_type": "code",
   "execution_count": 13,
   "id": "2baed75e",
   "metadata": {},
   "outputs": [
    {
     "name": "stderr",
     "output_type": "stream",
     "text": [
      "C:\\Users\\ALI\\AppData\\Local\\Temp\\ipykernel_6212\\2891773905.py:2: FutureWarning: this method is deprecated in favour of `Styler.hide(axis='index')`\n",
      "  table.as_pandas().style.set_properties(**{'text-align': 'left'}).hide_index()\n"
     ]
    },
    {
     "data": {
      "text/html": [
       "<style type=\"text/css\">\n",
       "#T_d3c15_row0_col0, #T_d3c15_row0_col1, #T_d3c15_row0_col2, #T_d3c15_row0_col3, #T_d3c15_row0_col4, #T_d3c15_row0_col5, #T_d3c15_row0_col6, #T_d3c15_row1_col0, #T_d3c15_row1_col1, #T_d3c15_row1_col2, #T_d3c15_row1_col3, #T_d3c15_row1_col4, #T_d3c15_row1_col5, #T_d3c15_row1_col6, #T_d3c15_row2_col0, #T_d3c15_row2_col1, #T_d3c15_row2_col2, #T_d3c15_row2_col3, #T_d3c15_row2_col4, #T_d3c15_row2_col5, #T_d3c15_row2_col6, #T_d3c15_row3_col0, #T_d3c15_row3_col1, #T_d3c15_row3_col2, #T_d3c15_row3_col3, #T_d3c15_row3_col4, #T_d3c15_row3_col5, #T_d3c15_row3_col6, #T_d3c15_row4_col0, #T_d3c15_row4_col1, #T_d3c15_row4_col2, #T_d3c15_row4_col3, #T_d3c15_row4_col4, #T_d3c15_row4_col5, #T_d3c15_row4_col6, #T_d3c15_row5_col0, #T_d3c15_row5_col1, #T_d3c15_row5_col2, #T_d3c15_row5_col3, #T_d3c15_row5_col4, #T_d3c15_row5_col5, #T_d3c15_row5_col6, #T_d3c15_row6_col0, #T_d3c15_row6_col1, #T_d3c15_row6_col2, #T_d3c15_row6_col3, #T_d3c15_row6_col4, #T_d3c15_row6_col5, #T_d3c15_row6_col6, #T_d3c15_row7_col0, #T_d3c15_row7_col1, #T_d3c15_row7_col2, #T_d3c15_row7_col3, #T_d3c15_row7_col4, #T_d3c15_row7_col5, #T_d3c15_row7_col6 {\n",
       "  text-align: left;\n",
       "}\n",
       "</style>\n",
       "<table id=\"T_d3c15\">\n",
       "  <thead>\n",
       "    <tr>\n",
       "      <th id=\"T_d3c15_level0_col0\" class=\"col_heading level0 col0\" >P</th>\n",
       "      <th id=\"T_d3c15_level0_col1\" class=\"col_heading level0 col1\" >Q</th>\n",
       "      <th id=\"T_d3c15_level0_col2\" class=\"col_heading level0 col2\" >R</th>\n",
       "      <th id=\"T_d3c15_level0_col3\" class=\"col_heading level0 col3\" >P xor Q</th>\n",
       "      <th id=\"T_d3c15_level0_col4\" class=\"col_heading level0 col4\" >~(P xor Q)</th>\n",
       "      <th id=\"T_d3c15_level0_col5\" class=\"col_heading level0 col5\" >Q or R</th>\n",
       "      <th id=\"T_d3c15_level0_col6\" class=\"col_heading level0 col6\" >(~(P xor Q)) => (Q or R)</th>\n",
       "    </tr>\n",
       "  </thead>\n",
       "  <tbody>\n",
       "    <tr>\n",
       "      <td id=\"T_d3c15_row0_col0\" class=\"data row0 col0\" >1</td>\n",
       "      <td id=\"T_d3c15_row0_col1\" class=\"data row0 col1\" >1</td>\n",
       "      <td id=\"T_d3c15_row0_col2\" class=\"data row0 col2\" >1</td>\n",
       "      <td id=\"T_d3c15_row0_col3\" class=\"data row0 col3\" >0</td>\n",
       "      <td id=\"T_d3c15_row0_col4\" class=\"data row0 col4\" >1</td>\n",
       "      <td id=\"T_d3c15_row0_col5\" class=\"data row0 col5\" >1</td>\n",
       "      <td id=\"T_d3c15_row0_col6\" class=\"data row0 col6\" >1</td>\n",
       "    </tr>\n",
       "    <tr>\n",
       "      <td id=\"T_d3c15_row1_col0\" class=\"data row1 col0\" >1</td>\n",
       "      <td id=\"T_d3c15_row1_col1\" class=\"data row1 col1\" >1</td>\n",
       "      <td id=\"T_d3c15_row1_col2\" class=\"data row1 col2\" >0</td>\n",
       "      <td id=\"T_d3c15_row1_col3\" class=\"data row1 col3\" >0</td>\n",
       "      <td id=\"T_d3c15_row1_col4\" class=\"data row1 col4\" >1</td>\n",
       "      <td id=\"T_d3c15_row1_col5\" class=\"data row1 col5\" >1</td>\n",
       "      <td id=\"T_d3c15_row1_col6\" class=\"data row1 col6\" >1</td>\n",
       "    </tr>\n",
       "    <tr>\n",
       "      <td id=\"T_d3c15_row2_col0\" class=\"data row2 col0\" >1</td>\n",
       "      <td id=\"T_d3c15_row2_col1\" class=\"data row2 col1\" >0</td>\n",
       "      <td id=\"T_d3c15_row2_col2\" class=\"data row2 col2\" >1</td>\n",
       "      <td id=\"T_d3c15_row2_col3\" class=\"data row2 col3\" >1</td>\n",
       "      <td id=\"T_d3c15_row2_col4\" class=\"data row2 col4\" >0</td>\n",
       "      <td id=\"T_d3c15_row2_col5\" class=\"data row2 col5\" >1</td>\n",
       "      <td id=\"T_d3c15_row2_col6\" class=\"data row2 col6\" >1</td>\n",
       "    </tr>\n",
       "    <tr>\n",
       "      <td id=\"T_d3c15_row3_col0\" class=\"data row3 col0\" >1</td>\n",
       "      <td id=\"T_d3c15_row3_col1\" class=\"data row3 col1\" >0</td>\n",
       "      <td id=\"T_d3c15_row3_col2\" class=\"data row3 col2\" >0</td>\n",
       "      <td id=\"T_d3c15_row3_col3\" class=\"data row3 col3\" >1</td>\n",
       "      <td id=\"T_d3c15_row3_col4\" class=\"data row3 col4\" >0</td>\n",
       "      <td id=\"T_d3c15_row3_col5\" class=\"data row3 col5\" >0</td>\n",
       "      <td id=\"T_d3c15_row3_col6\" class=\"data row3 col6\" >1</td>\n",
       "    </tr>\n",
       "    <tr>\n",
       "      <td id=\"T_d3c15_row4_col0\" class=\"data row4 col0\" >0</td>\n",
       "      <td id=\"T_d3c15_row4_col1\" class=\"data row4 col1\" >1</td>\n",
       "      <td id=\"T_d3c15_row4_col2\" class=\"data row4 col2\" >1</td>\n",
       "      <td id=\"T_d3c15_row4_col3\" class=\"data row4 col3\" >1</td>\n",
       "      <td id=\"T_d3c15_row4_col4\" class=\"data row4 col4\" >0</td>\n",
       "      <td id=\"T_d3c15_row4_col5\" class=\"data row4 col5\" >1</td>\n",
       "      <td id=\"T_d3c15_row4_col6\" class=\"data row4 col6\" >1</td>\n",
       "    </tr>\n",
       "    <tr>\n",
       "      <td id=\"T_d3c15_row5_col0\" class=\"data row5 col0\" >0</td>\n",
       "      <td id=\"T_d3c15_row5_col1\" class=\"data row5 col1\" >1</td>\n",
       "      <td id=\"T_d3c15_row5_col2\" class=\"data row5 col2\" >0</td>\n",
       "      <td id=\"T_d3c15_row5_col3\" class=\"data row5 col3\" >1</td>\n",
       "      <td id=\"T_d3c15_row5_col4\" class=\"data row5 col4\" >0</td>\n",
       "      <td id=\"T_d3c15_row5_col5\" class=\"data row5 col5\" >1</td>\n",
       "      <td id=\"T_d3c15_row5_col6\" class=\"data row5 col6\" >1</td>\n",
       "    </tr>\n",
       "    <tr>\n",
       "      <td id=\"T_d3c15_row6_col0\" class=\"data row6 col0\" >0</td>\n",
       "      <td id=\"T_d3c15_row6_col1\" class=\"data row6 col1\" >0</td>\n",
       "      <td id=\"T_d3c15_row6_col2\" class=\"data row6 col2\" >1</td>\n",
       "      <td id=\"T_d3c15_row6_col3\" class=\"data row6 col3\" >0</td>\n",
       "      <td id=\"T_d3c15_row6_col4\" class=\"data row6 col4\" >1</td>\n",
       "      <td id=\"T_d3c15_row6_col5\" class=\"data row6 col5\" >1</td>\n",
       "      <td id=\"T_d3c15_row6_col6\" class=\"data row6 col6\" >1</td>\n",
       "    </tr>\n",
       "    <tr>\n",
       "      <td id=\"T_d3c15_row7_col0\" class=\"data row7 col0\" >0</td>\n",
       "      <td id=\"T_d3c15_row7_col1\" class=\"data row7 col1\" >0</td>\n",
       "      <td id=\"T_d3c15_row7_col2\" class=\"data row7 col2\" >0</td>\n",
       "      <td id=\"T_d3c15_row7_col3\" class=\"data row7 col3\" >0</td>\n",
       "      <td id=\"T_d3c15_row7_col4\" class=\"data row7 col4\" >1</td>\n",
       "      <td id=\"T_d3c15_row7_col5\" class=\"data row7 col5\" >0</td>\n",
       "      <td id=\"T_d3c15_row7_col6\" class=\"data row7 col6\" >0</td>\n",
       "    </tr>\n",
       "  </tbody>\n",
       "</table>\n"
      ],
      "text/plain": [
       "<pandas.io.formats.style.Styler at 0x2420c435930>"
      ]
     },
     "execution_count": 13,
     "metadata": {},
     "output_type": "execute_result"
    }
   ],
   "source": [
    "table = ttg.Truths(['P', 'Q', 'R'], ['P xor Q', '~(P xor Q)', 'Q or R', '(~(P xor Q)) => (Q or R)'], ints = False)\n",
    "table.as_pandas().style.set_properties(**{'text-align': 'left'}).hide_index()"
   ]
  },
  {
   "cell_type": "markdown",
   "id": "01a55a32",
   "metadata": {},
   "source": [
    "# Findings in Words\n",
    "The \"truth table\" above was a tautology if not for the last entry. It is not a contradiction. Instead, the table is contingency because it is neither tautology nor contradiction.\n",
    "\n",
    "# Describe your propositions\n",
    "I described my propositions above with each statement. Initially, my propositions were centred around sports, where I assigned true values to my liking of football and basketball, whereas I assigned a false value to my liking of tennis. I proved logic using my statements. "
   ]
  }
 ],
 "metadata": {
  "kernelspec": {
   "display_name": "Python 3 (ipykernel)",
   "language": "python",
   "name": "python3"
  },
  "language_info": {
   "codemirror_mode": {
    "name": "ipython",
    "version": 3
   },
   "file_extension": ".py",
   "mimetype": "text/x-python",
   "name": "python",
   "nbconvert_exporter": "python",
   "pygments_lexer": "ipython3",
   "version": "3.10.2"
  }
 },
 "nbformat": 4,
 "nbformat_minor": 5
}
