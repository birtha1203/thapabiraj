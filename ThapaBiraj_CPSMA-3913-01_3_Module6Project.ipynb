{
 "cells": [
  {
   "cell_type": "markdown",
   "id": "b5af8ce2",
   "metadata": {},
   "source": [
    "                                                         Module 5 Project\n",
    "                                                         Biraj Thapa\n",
    "                                                         CPSMA-3913-01\n",
    "                                                         Instructor(s): Nicholas C Jacob, PhD"
   ]
  },
  {
   "cell_type": "markdown",
   "id": "6367a185",
   "metadata": {},
   "source": [
    "# Conversion of number into base 10\n",
    " I will be using the basic int () function to compute the number in base 10. The current base of the number, in this case 7, will be the second argument.It will evaluate it to the base 10 using int ().\n",
    " "
   ]
  },
  {
   "cell_type": "code",
   "execution_count": 1,
   "id": "030fb1b7",
   "metadata": {},
   "outputs": [
    {
     "data": {
      "text/plain": [
       "6201"
      ]
     },
     "execution_count": 1,
     "metadata": {},
     "output_type": "execute_result"
    }
   ],
   "source": [
    "base = int('24036',7)\n",
    "base\n"
   ]
  },
  {
   "cell_type": "markdown",
   "id": "35e1577e",
   "metadata": {},
   "source": [
    "# Hexadecimal to decimal\n",
    "I will use the int () function again. Note that to compute any base into a decimal, we can use this function. This time our second argument will be 16. \n",
    " "
   ]
  },
  {
   "cell_type": "code",
   "execution_count": 2,
   "id": "692130ab",
   "metadata": {},
   "outputs": [
    {
     "data": {
      "text/plain": [
       "29411"
      ]
     },
     "execution_count": 2,
     "metadata": {},
     "output_type": "execute_result"
    }
   ],
   "source": [
    "base = int('72e3', 16)\n",
    "base"
   ]
  },
  {
   "cell_type": "code",
   "execution_count": 3,
   "id": "0788ade5",
   "metadata": {},
   "outputs": [
    {
     "data": {
      "text/plain": [
       "29411"
      ]
     },
     "execution_count": 3,
     "metadata": {},
     "output_type": "execute_result"
    }
   ],
   "source": [
    "base = int('0x72e3', 16)\n",
    "base\n"
   ]
  },
  {
   "cell_type": "markdown",
   "id": "5cf01638",
   "metadata": {},
   "source": [
    "# Decimal to hexadecimal\n",
    "We can't use the same int () function because that is used to compute the decimal values of any certain base. To convert it into hexadecimal, we will use the hex() function. We will pass the number into the hex () argument and we will get our hexadecimal result."
   ]
  },
  {
   "cell_type": "code",
   "execution_count": 4,
   "id": "97b5a10b",
   "metadata": {},
   "outputs": [
    {
     "data": {
      "text/plain": [
       "'0xdeadbeef'"
      ]
     },
     "execution_count": 4,
     "metadata": {},
     "output_type": "execute_result"
    }
   ],
   "source": [
    "hexa = hex(3735928559)\n",
    "hexa\n"
   ]
  },
  {
   "cell_type": "markdown",
   "id": "b36ba9d4",
   "metadata": {},
   "source": [
    "# Finding Binary for Complement \n",
    "To calculate, enter 25–37. We will have to take the complement of 37 in order to get -37, and then we can add 25. To find the complement, we will have to convert the number into binary form. In the main code, we will define the function decimalToBinary() and then compute the binary equivalent."
   ]
  },
  {
   "cell_type": "code",
   "execution_count": 48,
   "id": "090d8539",
   "metadata": {},
   "outputs": [
    {
     "name": "stdout",
     "output_type": "stream",
     "text": [
      "11001\n",
      "100101\n"
     ]
    }
   ],
   "source": [
    "def decimalToBinary(n):\n",
    "    return bin(n).replace(\"0b\", \"\")\n",
    "\n",
    "if __name__ == '__main__':\n",
    "    print(decimalToBinary(25))\n",
    "    print(decimalToBinary(37))\n",
    "    "
   ]
  },
  {
   "cell_type": "markdown",
   "id": "d9a16bd1",
   "metadata": {},
   "source": [
    "# Base ten subtraction 25 − 37\n",
    "After we've computed the binary of the numbers, we will take the two-s complement of 37 in order to subtract it. If the last digit is zero, we change it to 1, and if the last digit is 1, we change it to 0. When the last digit is reached, one is added. We will then add the Num1 and Num2Complement to get our final binary output."
   ]
  },
  {
   "cell_type": "code",
   "execution_count": 50,
   "id": "a4fefedf",
   "metadata": {},
   "outputs": [
    {
     "name": "stdout",
     "output_type": "stream",
     "text": [
      "Compliment of Number 2: 11011011\n",
      "Adding 25 and -37: 11110100\n"
     ]
    }
   ],
   "source": [
    "Num1 = '00011001'      \n",
    "Num2 = '00100101'      \n",
    "Num2Complement = '1'   \n",
    "x = 0\n",
    "\n",
    "for i in Num2:\n",
    "  if (x != 0):   \n",
    "    if (x != 7):     \n",
    "      if (Num2[x] == '0'):     \n",
    "        Num2Complement += '1'      \n",
    "\n",
    "      else:           \n",
    "        Num2Complement += '0'\n",
    "    else:             \n",
    "        Num2Complement += '1'    \n",
    "  x += 1\n",
    "print(\"Compliment of Number 2:\", Num2Complement)\n",
    "\n",
    "add = bin(int(Num1, 2) + int(Num2Complement, 2))[2:]\n",
    "print(\"Adding 25 and -37:\", add)\n"
   ]
  },
  {
   "cell_type": "markdown",
   "id": "5ac03d56",
   "metadata": {},
   "source": [
    "# Convert binary into decimal\n",
    "This code will convert our binary output into decimal using Python's built-in functions. -1 is multiplied because we did subtraction and the decimal equivalence should be a negative number.  "
   ]
  },
  {
   "cell_type": "code",
   "execution_count": 13,
   "id": "8d2dee8b",
   "metadata": {},
   "outputs": [
    {
     "data": {
      "text/plain": [
       "-12"
      ]
     },
     "execution_count": 13,
     "metadata": {},
     "output_type": "execute_result"
    }
   ],
   "source": [
    "-1 * (int(''.join('1' if x == '0' else '0' for x in add), 2) + 1)"
   ]
  },
  {
   "cell_type": "markdown",
   "id": "643bceb3",
   "metadata": {},
   "source": [
    "# Importance of Binary and Hexadecimal to computers\n",
    "The use of binary numerals instead of the decimal system facilitates the architecture of computers and associated technologies. Every binary integer's first digit, starting from the right side, can be 0 or 1.For systems, they can also indicate true and false.Hexadecimal numbers are significant because they give a more human-friendly depiction and it is far more effective in eliciting binary number forms in hex than in any other base counting system."
   ]
  }
 ],
 "metadata": {
  "kernelspec": {
   "display_name": "Python 3 (ipykernel)",
   "language": "python",
   "name": "python3"
  },
  "language_info": {
   "codemirror_mode": {
    "name": "ipython",
    "version": 3
   },
   "file_extension": ".py",
   "mimetype": "text/x-python",
   "name": "python",
   "nbconvert_exporter": "python",
   "pygments_lexer": "ipython3",
   "version": "3.10.2"
  }
 },
 "nbformat": 4,
 "nbformat_minor": 5
}
